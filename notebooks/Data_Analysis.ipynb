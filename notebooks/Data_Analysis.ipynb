{
 "cells": [
  {
   "cell_type": "code",
   "execution_count": 1,
   "metadata": {},
   "outputs": [],
   "source": [
    "import numpy as np\n",
    "import pandas as pd\n",
    "import matplotlib.pyplot as plt\n",
    "import imblearn\n",
    "import json\n",
    "import ast\n",
    "from ast import literal_eval\n",
    "from collections import Counter"
   ]
  },
  {
   "cell_type": "code",
   "execution_count": 2,
   "metadata": {},
   "outputs": [],
   "source": [
    "from difflib import SequenceMatcher\n",
    "\n",
    "def similar(a, b):\n",
    "    return SequenceMatcher(None, a, b).ratio()"
   ]
  },
  {
   "cell_type": "markdown",
   "metadata": {},
   "source": [
    "# Danish Datasets"
   ]
  },
  {
   "cell_type": "markdown",
   "metadata": {},
   "source": [
    "## Open Source Dataset"
   ]
  },
  {
   "cell_type": "code",
   "execution_count": null,
   "metadata": {},
   "outputs": [],
   "source": [
    "opsrc = pd.read_csv('da/opensource.csv', index_col=0)\n",
    "print(\"Shape of data=>\", opsrc.shape)\n",
    "opsrc.head(5)\n",
    "\n",
    "# Shape of data=> (336, 5)"
   ]
  },
  {
   "cell_type": "code",
   "execution_count": 4,
   "metadata": {},
   "outputs": [
    {
     "data": {
      "text/plain": [
       "themes       1\n",
       "headline     0\n",
       "text         0\n",
       "num_words    0\n",
       "duid         0\n",
       "dtype: int64"
      ]
     },
     "execution_count": 4,
     "metadata": {},
     "output_type": "execute_result"
    }
   ],
   "source": [
    "opsrc.isnull().sum()"
   ]
  },
  {
   "cell_type": "code",
   "execution_count": 5,
   "metadata": {},
   "outputs": [
    {
     "data": {
      "text/plain": [
       "(335, 5)"
      ]
     },
     "execution_count": 5,
     "metadata": {},
     "output_type": "execute_result"
    }
   ],
   "source": [
    "opsrc = opsrc[opsrc['themes'].notna()]\n",
    "opsrc.shape"
   ]
  },
  {
   "cell_type": "code",
   "execution_count": 10,
   "metadata": {},
   "outputs": [
    {
     "data": {
      "text/plain": [
       "<AxesSubplot:title={'center':'Num. of words per doc. distribution'}, ylabel='Frequency'>"
      ]
     },
     "execution_count": 10,
     "metadata": {},
     "output_type": "execute_result"
    },
    {
     "data": {
      "image/png": "[encoded data removed]",
      "text/plain": [
       "<Figure size 432x288 with 1 Axes>"
      ]
     },
     "metadata": {
      "needs_background": "light"
     },
     "output_type": "display_data"
    }
   ],
   "source": [
    "opsrc['num_words'].plot.hist(bins=25, alpha=0.8, legend=False, title=\"Num. of words per doc. distribution\", xlabel='Words per doc.')"
   ]
  },
  {
   "cell_type": "code",
   "execution_count": 41,
   "metadata": {},
   "outputs": [],
   "source": [
    "opsrc['keywords'] = opsrc['themes']\n",
    "del opsrc['themes']"
   ]
  },
  {
   "cell_type": "code",
   "execution_count": 43,
   "metadata": {},
   "outputs": [],
   "source": [
    "opsrc.keywords = opsrc.keywords.astype(str)\n",
    "opsrc.text = opsrc.text.astype(str)\n",
    "opsrc.headline = opsrc.headline.astype(str)"
   ]
  },
  {
   "cell_type": "code",
   "execution_count": 45,
   "metadata": {},
   "outputs": [
    {
     "name": "stdout",
     "output_type": "stream",
     "text": [
      "Counter({3: 131, 4: 103, 2: 86, 1: 11, 5: 4})\n"
     ]
    },
    {
     "data": {
      "text/plain": [
       "Text(0.5, 0, 'Length of keywords')"
      ]
     },
     "execution_count": 45,
     "metadata": {},
     "output_type": "execute_result"
    },
    {
     "data": {
      "image/png": "[encoded data removed]",
      "text/plain": [
       "<Figure size 432x288 with 1 Axes>"
      ]
     },
     "metadata": {
      "needs_background": "light"
     },
     "output_type": "display_data"
    }
   ],
   "source": [
    "acc = []\n",
    "for i, row in opsrc.iterrows():\n",
    "    acc.append(len(row['keywords'].split()))\n",
    "c = Counter(acc)\n",
    "print(c)\n",
    "plt.bar(c.keys(), c.values())\n",
    "plt.title(\"Length of keywords distribution\")\n",
    "plt.xlabel(\"Length of keywords\")"
   ]
  },
  {
   "cell_type": "code",
   "execution_count": 54,
   "metadata": {},
   "outputs": [],
   "source": [
    "opsrc['keywords'] = opsrc.apply(lambda row: [row['keywords']], axis=1)"
   ]
  },
  {
   "cell_type": "code",
   "execution_count": 56,
   "metadata": {},
   "outputs": [],
   "source": [
    "#opsrc.reset_index(drop=True, inplace=True)\n",
    "opsrc.to_csv('da/opensource.csv')"
   ]
  },
  {
   "cell_type": "markdown",
   "metadata": {},
   "source": [
    "### 335 articles with usually less than 900 words, although majority are around 200-300 words"
   ]
  },
  {
   "cell_type": "markdown",
   "metadata": {},
   "source": [
    "## DaNewsroom"
   ]
  },
  {
   "cell_type": "code",
   "execution_count": 125,
   "metadata": {},
   "outputs": [],
   "source": [
    "with open(\"da/danewsroom_test.txt\", \"r\") as f:\n",
    "    rows = json.load(f)\n",
    "danews = pd.DataFrame(rows)"
   ]
  },
  {
   "cell_type": "code",
   "execution_count": 126,
   "metadata": {},
   "outputs": [
    {
     "data": {
      "text/plain": [
       "text         9411\n",
       "headline     9411\n",
       "summary      9411\n",
       "url          9411\n",
       "num_words    9411\n",
       "dtype: int64"
      ]
     },
     "execution_count": 126,
     "metadata": {},
     "output_type": "execute_result"
    }
   ],
   "source": [
    "danews['num_words'] = danews.apply(lambda row: len(row['text'].split()), axis=1)\n",
    "danews[danews['num_words'] < 100].count()"
   ]
  },
  {
   "cell_type": "code",
   "execution_count": null,
   "metadata": {},
   "outputs": [],
   "source": [
    "danews = danews[danews['num_words'] >= 100].reset_index(drop=True)\n",
    "print(\"Shape of data=>\", danews.shape)\n",
    "danews.head(5)\n",
    "\n",
    "# Shape of data=> (103868, 5)"
   ]
  },
  {
   "cell_type": "code",
   "execution_count": 128,
   "metadata": {},
   "outputs": [
    {
     "name": "stdout",
     "output_type": "stream",
     "text": [
      "Number of articles with more than 400 words: 30165\n",
      "Number of articles with more than 700 words: 9044\n"
     ]
    }
   ],
   "source": [
    "print(f'Number of articles with more than 400 words: {danews[danews[\"num_words\"] > 400].count()[0]}')\n",
    "print(f'Number of articles with more than 700 words: {danews[danews[\"num_words\"] > 700].count()[0]}')"
   ]
  },
  {
   "cell_type": "code",
   "execution_count": 129,
   "metadata": {},
   "outputs": [
    {
     "data": {
      "text/plain": [
       "<AxesSubplot:title={'center':'Num. of words per doc. distribution'}, ylabel='Frequency'>"
      ]
     },
     "execution_count": 129,
     "metadata": {},
     "output_type": "execute_result"
    },
    {
     "data": {
      "image/png": "[encoded data removed]",
      "text/plain": [
       "<Figure size 432x288 with 1 Axes>"
      ]
     },
     "metadata": {
      "needs_background": "light"
     },
     "output_type": "display_data"
    }
   ],
   "source": [
    "danews.plot.hist(bins=12, alpha=0.8, legend=False, title=\"Num. of words per doc. distribution\", xlabel='Words per doc.')"
   ]
  },
  {
   "cell_type": "code",
   "execution_count": 132,
   "metadata": {},
   "outputs": [],
   "source": [
    "#danews[danews['num_words'] > round(danews[\"num_words\"].quantile(0.99))].count() # with 99% quantile [1490 words] -> 1038 rows removed\n",
    "danews = danews[danews['num_words'] <= round(danews[\"num_words\"].quantile(0.99))].reset_index(drop=True)"
   ]
  },
  {
   "cell_type": "code",
   "execution_count": 135,
   "metadata": {},
   "outputs": [
    {
     "name": "stdout",
     "output_type": "stream",
     "text": [
      "Shape of data=> (102830, 5)\n"
     ]
    },
    {
     "data": {
      "text/plain": [
       "<AxesSubplot:title={'center':'Num. of words per doc. distribution'}, ylabel='Frequency'>"
      ]
     },
     "execution_count": 135,
     "metadata": {},
     "output_type": "execute_result"
    },
    {
     "data": {
      "image/png": "[encoded data removed]",
      "text/plain": [
       "<Figure size 432x288 with 1 Axes>"
      ]
     },
     "metadata": {
      "needs_background": "light"
     },
     "output_type": "display_data"
    }
   ],
   "source": [
    "print(\"Shape of data=>\", danews.shape)\n",
    "danews.plot.hist(bins=12, alpha=0.8, legend=False, title=\"Num. of words per doc. distribution\", xlabel='Words per doc.')"
   ]
  },
  {
   "cell_type": "code",
   "execution_count": 134,
   "metadata": {},
   "outputs": [
    {
     "data": {
      "text/plain": [
       "102830"
      ]
     },
     "execution_count": 134,
     "metadata": {},
     "output_type": "execute_result"
    }
   ],
   "source": [
    "len(danews['text'].unique()) # no duplicates"
   ]
  },
  {
   "cell_type": "code",
   "execution_count": 6,
   "metadata": {},
   "outputs": [
    {
     "data": {
      "text/plain": [
       "Text(0.5, 0, 'Length of summaries')"
      ]
     },
     "execution_count": 6,
     "metadata": {},
     "output_type": "execute_result"
    },
    {
     "data": {
      "image/png": "[encoded data removed]",
      "text/plain": [
       "<Figure size 432x288 with 1 Axes>"
      ]
     },
     "metadata": {
      "needs_background": "light"
     },
     "output_type": "display_data"
    }
   ],
   "source": [
    "acc = []\n",
    "for i, row in danews.iterrows():\n",
    "    acc.append(len(row['summary'].split()))\n",
    "c = Counter(acc)\n",
    "plt.bar(c.keys(), c.values(), width=1.0)\n",
    "plt.title(\"Length of summaries distribution\")\n",
    "plt.xlabel(\"Length of summaries\")"
   ]
  },
  {
   "cell_type": "code",
   "execution_count": 136,
   "metadata": {},
   "outputs": [],
   "source": [
    "danews.to_csv('da/da_newsroom.csv')"
   ]
  },
  {
   "cell_type": "markdown",
   "metadata": {},
   "source": [
    "# Internal SV"
   ]
  },
  {
   "cell_type": "code",
   "execution_count": null,
   "metadata": {},
   "outputs": [],
   "source": [
    "sv_themes = pd.read_csv('sv/sv_themes.csv', index_col=0)\n",
    "print(\"Shape of data=>\", sv_themes.shape)\n",
    "sv_themes.head(5)\n",
    "\n",
    "# Shape of data=> (55, 5)"
   ]
  },
  {
   "cell_type": "code",
   "execution_count": 3,
   "metadata": {},
   "outputs": [
    {
     "data": {
      "text/plain": [
       "<AxesSubplot:title={'center':'Num. of words per doc. distribution'}, ylabel='Frequency'>"
      ]
     },
     "execution_count": 3,
     "metadata": {},
     "output_type": "execute_result"
    },
    {
     "data": {
      "image/png": "[encoded data removed]",
      "text/plain": [
       "<Figure size 432x288 with 1 Axes>"
      ]
     },
     "metadata": {
      "needs_background": "light"
     },
     "output_type": "display_data"
    }
   ],
   "source": [
    "sv_themes['num_words'].plot.hist(bins=25, alpha=0.8, legend=False, title=\"Num. of words per doc. distribution\", xlabel='Words per doc.')"
   ]
  },
  {
   "cell_type": "code",
   "execution_count": 6,
   "metadata": {},
   "outputs": [
    {
     "data": {
      "text/plain": [
       "<AxesSubplot:title={'center':'Num. of keywords per doc. distribution'}, ylabel='Frequency'>"
      ]
     },
     "execution_count": 6,
     "metadata": {},
     "output_type": "execute_result"
    },
    {
     "data": {
      "image/png": "[encoded data removed]",
      "text/plain": [
       "<Figure size 432x288 with 1 Axes>"
      ]
     },
     "metadata": {
      "needs_background": "light"
     },
     "output_type": "display_data"
    }
   ],
   "source": [
    "sv_themes.num_themes.plot.hist(bins=10, alpha=0.8, legend=False, title=\"Num. of keywords per doc. distribution\", xlabel='Keywords per doc.')"
   ]
  },
  {
   "cell_type": "code",
   "execution_count": 23,
   "metadata": {},
   "outputs": [
    {
     "name": "stdout",
     "output_type": "stream",
     "text": [
      "Counter({2: 52, 3: 42, 1: 40, 4: 17, 5: 1})\n"
     ]
    },
    {
     "data": {
      "text/plain": [
       "Text(0.5, 0, 'Length of themes')"
      ]
     },
     "execution_count": 23,
     "metadata": {},
     "output_type": "execute_result"
    },
    {
     "data": {
      "image/png": "[encoded data removed]",
      "text/plain": [
       "<Figure size 432x288 with 1 Axes>"
      ]
     },
     "metadata": {
      "needs_background": "light"
     },
     "output_type": "display_data"
    }
   ],
   "source": [
    "acc = []\n",
    "for i, row in sv_themes.iterrows():\n",
    "    for theme in literal_eval(row['theme']):\n",
    "        acc.append(len(theme.split()))\n",
    "c = Counter(acc)\n",
    "print(c)\n",
    "plt.bar(c.keys(), c.values())\n",
    "plt.title(\"Length of themes distribution\")\n",
    "plt.xlabel(\"Length of themes\")"
   ]
  },
  {
   "cell_type": "code",
   "execution_count": null,
   "metadata": {},
   "outputs": [],
   "source": [
    "#sv_themes.reset_index(drop=True, inplace=True)\n",
    "#sv_themes.to_csv('no/no_themes.csv')"
   ]
  },
  {
   "cell_type": "markdown",
   "metadata": {},
   "source": [
    "# Internal NO"
   ]
  },
  {
   "cell_type": "code",
   "execution_count": null,
   "metadata": {},
   "outputs": [],
   "source": [
    "no_themes = pd.read_csv('no/no_themes.csv', index_col=0)\n",
    "print(\"Shape of data=>\", no_themes.shape)\n",
    "no_themes.head(5)\n",
    "\n",
    "# Shape of data=> (55, 5)"
   ]
  },
  {
   "cell_type": "code",
   "execution_count": 8,
   "metadata": {},
   "outputs": [
    {
     "data": {
      "text/plain": [
       "<AxesSubplot:title={'center':'Num. of words per doc. distribution'}, ylabel='Frequency'>"
      ]
     },
     "execution_count": 8,
     "metadata": {},
     "output_type": "execute_result"
    },
    {
     "data": {
      "image/png": "[encoded data removed]",
      "text/plain": [
       "<Figure size 432x288 with 1 Axes>"
      ]
     },
     "metadata": {
      "needs_background": "light"
     },
     "output_type": "display_data"
    }
   ],
   "source": [
    "no_themes['num_words'].plot.hist(bins=25, alpha=0.8, legend=False, title=\"Num. of words per doc. distribution\", xlabel='Words per doc.')"
   ]
  },
  {
   "cell_type": "code",
   "execution_count": 9,
   "metadata": {},
   "outputs": [
    {
     "data": {
      "text/plain": [
       "<AxesSubplot:title={'center':'Num. of keywords per doc. distribution'}, ylabel='Frequency'>"
      ]
     },
     "execution_count": 9,
     "metadata": {},
     "output_type": "execute_result"
    },
    {
     "data": {
      "image/png": "[encoded data removed]",
      "text/plain": [
       "<Figure size 432x288 with 1 Axes>"
      ]
     },
     "metadata": {
      "needs_background": "light"
     },
     "output_type": "display_data"
    }
   ],
   "source": [
    "no_themes.num_themes.plot.hist(bins=10, alpha=0.8, legend=False, title=\"Num. of keywords per doc. distribution\", xlabel='Keywords per doc.')"
   ]
  },
  {
   "cell_type": "code",
   "execution_count": 20,
   "metadata": {},
   "outputs": [
    {
     "name": "stdout",
     "output_type": "stream",
     "text": [
      "Counter({1: 59, 2: 44, 3: 29, 4: 15, 6: 1})\n"
     ]
    },
    {
     "data": {
      "text/plain": [
       "Text(0.5, 0, 'Length of themes')"
      ]
     },
     "execution_count": 20,
     "metadata": {},
     "output_type": "execute_result"
    },
    {
     "data": {
      "image/png": "[encoded data removed]",
      "text/plain": [
       "<Figure size 432x288 with 1 Axes>"
      ]
     },
     "metadata": {
      "needs_background": "light"
     },
     "output_type": "display_data"
    }
   ],
   "source": [
    "acc = []\n",
    "for i, row in no_themes.iterrows():\n",
    "    for theme in literal_eval(row['theme']):\n",
    "        acc.append(len(theme.split()))\n",
    "c = Counter(acc)\n",
    "print(c)\n",
    "plt.bar(c.keys(), c.values())\n",
    "plt.title(\"Length of themes distribution\")\n",
    "plt.xlabel(\"Length of themes\")"
   ]
  },
  {
   "cell_type": "code",
   "execution_count": 11,
   "metadata": {},
   "outputs": [],
   "source": [
    "#no_themes.reset_index(drop=True, inplace=True)\n",
    "#no_themes.to_csv('no/no_themes.csv')"
   ]
  },
  {
   "cell_type": "markdown",
   "metadata": {},
   "source": [
    "# English datasets\n",
    "\n",
    "## 500N-KPCrowd"
   ]
  },
  {
   "cell_type": "code",
   "execution_count": 3,
   "metadata": {},
   "outputs": [
    {
     "data": {
      "text/html": [
       "<div>\n",
       "<style scoped>\n",
       "    .dataframe tbody tr th:only-of-type {\n",
       "        vertical-align: middle;\n",
       "    }\n",
       "\n",
       "    .dataframe tbody tr th {\n",
       "        vertical-align: top;\n",
       "    }\n",
       "\n",
       "    .dataframe thead th {\n",
       "        text-align: right;\n",
       "    }\n",
       "</style>\n",
       "<table border=\"1\" class=\"dataframe\">\n",
       "  <thead>\n",
       "    <tr style=\"text-align: right;\">\n",
       "      <th></th>\n",
       "      <th>text</th>\n",
       "      <th>duid</th>\n",
       "      <th>topic</th>\n",
       "      <th>num_words</th>\n",
       "      <th>keywords</th>\n",
       "    </tr>\n",
       "  </thead>\n",
       "  <tbody>\n",
       "    <tr>\n",
       "      <th>0</th>\n",
       "      <td>Singer Michael Buble weds TV star Luisana Lopi...</td>\n",
       "      <td>20893614</td>\n",
       "      <td>art_and_culture</td>\n",
       "      <td>283</td>\n",
       "      <td>['married Argentine', 'his Grammy', 'ceremony'...</td>\n",
       "    </tr>\n",
       "    <tr>\n",
       "      <th>1</th>\n",
       "      <td>Craig \"\"will do Larsson justice\"\" Daniel Craig...</td>\n",
       "      <td>20900470</td>\n",
       "      <td>art_and_culture</td>\n",
       "      <td>264</td>\n",
       "      <td>['role', 'American', 'board', 'Staermose', 'Da...</td>\n",
       "    </tr>\n",
       "    <tr>\n",
       "      <th>2</th>\n",
       "      <td>Justin Bieber and Ashton Kutcher: the worst bu...</td>\n",
       "      <td>20902975</td>\n",
       "      <td>art_and_culture</td>\n",
       "      <td>541</td>\n",
       "      <td>['production', 'coming', 'affinity', 'primaril...</td>\n",
       "    </tr>\n",
       "    <tr>\n",
       "      <th>3</th>\n",
       "      <td>&amp;#039;Bones&amp;#039; Star Emily Deschanel pregnan...</td>\n",
       "      <td>20904497</td>\n",
       "      <td>art_and_culture</td>\n",
       "      <td>174</td>\n",
       "      <td>['confirmed', 'year', 'pregnant', 'September',...</td>\n",
       "    </tr>\n",
       "    <tr>\n",
       "      <th>4</th>\n",
       "      <td>&amp;#039;Dark Shadows&amp;#039; update: Chloe Moretz ...</td>\n",
       "      <td>20906308</td>\n",
       "      <td>art_and_culture</td>\n",
       "      <td>261</td>\n",
       "      <td>['would play Carolyn', 'join cast', '039Dark S...</td>\n",
       "    </tr>\n",
       "  </tbody>\n",
       "</table>\n",
       "</div>"
      ],
      "text/plain": [
       "                                                text      duid  \\\n",
       "0  Singer Michael Buble weds TV star Luisana Lopi...  20893614   \n",
       "1  Craig \"\"will do Larsson justice\"\" Daniel Craig...  20900470   \n",
       "2  Justin Bieber and Ashton Kutcher: the worst bu...  20902975   \n",
       "3  &#039;Bones&#039; Star Emily Deschanel pregnan...  20904497   \n",
       "4  &#039;Dark Shadows&#039; update: Chloe Moretz ...  20906308   \n",
       "\n",
       "             topic  num_words  \\\n",
       "0  art_and_culture        283   \n",
       "1  art_and_culture        264   \n",
       "2  art_and_culture        541   \n",
       "3  art_and_culture        174   \n",
       "4  art_and_culture        261   \n",
       "\n",
       "                                            keywords  \n",
       "0  ['married Argentine', 'his Grammy', 'ceremony'...  \n",
       "1  ['role', 'American', 'board', 'Staermose', 'Da...  \n",
       "2  ['production', 'coming', 'affinity', 'primaril...  \n",
       "3  ['confirmed', 'year', 'pregnant', 'September',...  \n",
       "4  ['would play Carolyn', 'join cast', '039Dark S...  "
      ]
     },
     "execution_count": 3,
     "metadata": {},
     "output_type": "execute_result"
    }
   ],
   "source": [
    "en_kpcrowd = pd.read_csv('en/500N-KPCrowd.csv', index_col=0)\n",
    "en_kpcrowd.head(5)"
   ]
  },
  {
   "cell_type": "code",
   "execution_count": 4,
   "metadata": {},
   "outputs": [
    {
     "name": "stdout",
     "output_type": "stream",
     "text": [
      "Shape of data=> (386, 5)\n"
     ]
    },
    {
     "data": {
      "text/plain": [
       "<AxesSubplot:title={'center':'Num. of words per doc. distribution'}, ylabel='Frequency'>"
      ]
     },
     "execution_count": 4,
     "metadata": {},
     "output_type": "execute_result"
    },
    {
     "data": {
      "image/png": "[encoded data removed]",
      "text/plain": [
       "<Figure size 432x288 with 1 Axes>"
      ]
     },
     "metadata": {
      "needs_background": "light"
     },
     "output_type": "display_data"
    }
   ],
   "source": [
    "print(\"Shape of data=>\", en_kpcrowd.shape)\n",
    "en_kpcrowd.num_words.plot.hist(bins=12, alpha=0.8, legend=False, title=\"Num. of words per doc. distribution\", xlabel='Words per doc.')"
   ]
  },
  {
   "cell_type": "code",
   "execution_count": 5,
   "metadata": {},
   "outputs": [],
   "source": [
    "#en_kpcrowd[en_kpcrowd['num_words'] > round(en_kpcrowd[\"num_words\"].quantile(0.99))].count() # with 99% quantile [1391 words] -> 4 rows removed\n",
    "en_kpcrowd = en_kpcrowd[en_kpcrowd['num_words'] <= round(en_kpcrowd[\"num_words\"].quantile(0.99))].reset_index(drop=True)"
   ]
  },
  {
   "cell_type": "code",
   "execution_count": 6,
   "metadata": {},
   "outputs": [
    {
     "name": "stdout",
     "output_type": "stream",
     "text": [
      "Shape of data=> (382, 5)\n"
     ]
    },
    {
     "data": {
      "text/plain": [
       "<AxesSubplot:title={'center':'Num. of words per doc. distribution'}, ylabel='Frequency'>"
      ]
     },
     "execution_count": 6,
     "metadata": {},
     "output_type": "execute_result"
    },
    {
     "data": {
      "image/png": "[encoded data removed]",
      "text/plain": [
       "<Figure size 432x288 with 1 Axes>"
      ]
     },
     "metadata": {
      "needs_background": "light"
     },
     "output_type": "display_data"
    }
   ],
   "source": [
    "print(\"Shape of data=>\", en_kpcrowd.shape)\n",
    "en_kpcrowd.num_words.plot.hist(bins=12, alpha=0.8, legend=False, title=\"Num. of words per doc. distribution\", xlabel='Words per doc.')"
   ]
  },
  {
   "cell_type": "code",
   "execution_count": 7,
   "metadata": {},
   "outputs": [
    {
     "data": {
      "text/plain": [
       "363"
      ]
     },
     "execution_count": 7,
     "metadata": {},
     "output_type": "execute_result"
    }
   ],
   "source": [
    "len(en_kpcrowd['text'].unique()) # 363 unique articles, let's remove the rest..."
   ]
  },
  {
   "cell_type": "code",
   "execution_count": 8,
   "metadata": {},
   "outputs": [],
   "source": [
    "en_kpcrowd = en_kpcrowd.drop_duplicates(subset='text', keep=\"last\").reset_index(drop=True)"
   ]
  },
  {
   "cell_type": "code",
   "execution_count": 9,
   "metadata": {},
   "outputs": [
    {
     "data": {
      "text/plain": [
       "<AxesSubplot:>"
      ]
     },
     "execution_count": 9,
     "metadata": {},
     "output_type": "execute_result"
    },
    {
     "data": {
      "image/png": "[encoded data removed]",
      "text/plain": [
       "<Figure size 432x288 with 1 Axes>"
      ]
     },
     "metadata": {
      "needs_background": "light"
     },
     "output_type": "display_data"
    }
   ],
   "source": [
    "en_kpcrowd[\"topic\"].value_counts(sort=False).plot(kind='bar', alpha=0.9)"
   ]
  },
  {
   "cell_type": "code",
   "execution_count": 10,
   "metadata": {},
   "outputs": [
    {
     "data": {
      "text/plain": [
       "<AxesSubplot:title={'center':'Num. of keywords per doc. distribution'}, ylabel='Frequency'>"
      ]
     },
     "execution_count": 10,
     "metadata": {},
     "output_type": "execute_result"
    },
    {
     "data": {
      "image/png": "[encoded data removed]",
      "text/plain": [
       "<Figure size 432x288 with 1 Axes>"
      ]
     },
     "metadata": {
      "needs_background": "light"
     },
     "output_type": "display_data"
    }
   ],
   "source": [
    "en_kpcrowd['keywords'] = en_kpcrowd.apply(lambda row: ast.literal_eval(row['keywords']), axis=1)\n",
    "en_kpcrowd['num_keywords'] = en_kpcrowd.apply(lambda row: len(row['keywords']), axis=1)\n",
    "en_kpcrowd.num_keywords.plot.hist(bins=12, alpha=0.8, legend=False, title=\"Num. of keywords per doc. distribution\", xlabel='Keywords per doc.')"
   ]
  },
  {
   "cell_type": "code",
   "execution_count": 19,
   "metadata": {},
   "outputs": [
    {
     "data": {
      "text/plain": [
       "Text(0.5, 0, 'Length of keywords')"
      ]
     },
     "execution_count": 19,
     "metadata": {},
     "output_type": "execute_result"
    },
    {
     "data": {
      "image/png": "[encoded data removed]",
      "text/plain": [
       "<Figure size 432x288 with 1 Axes>"
      ]
     },
     "metadata": {
      "needs_background": "light"
     },
     "output_type": "display_data"
    }
   ],
   "source": [
    "acc = []\n",
    "for i, row in en_kpcrowd.iterrows():\n",
    "    acc = acc + [len(kw.split()) for kw in row['keywords']]\n",
    "c = Counter(acc)\n",
    "plt.bar(c.keys(), c.values())\n",
    "plt.title(\"Length of keywords distribution\")\n",
    "plt.xlabel(\"Length of keywords\")"
   ]
  },
  {
   "cell_type": "code",
   "execution_count": 114,
   "metadata": {},
   "outputs": [
    {
     "name": "stdout",
     "output_type": "stream",
     "text": [
      "Shape of data=> (363, 6)\n"
     ]
    },
    {
     "data": {
      "text/html": [
       "<div>\n",
       "<style scoped>\n",
       "    .dataframe tbody tr th:only-of-type {\n",
       "        vertical-align: middle;\n",
       "    }\n",
       "\n",
       "    .dataframe tbody tr th {\n",
       "        vertical-align: top;\n",
       "    }\n",
       "\n",
       "    .dataframe thead th {\n",
       "        text-align: right;\n",
       "    }\n",
       "</style>\n",
       "<table border=\"1\" class=\"dataframe\">\n",
       "  <thead>\n",
       "    <tr style=\"text-align: right;\">\n",
       "      <th></th>\n",
       "      <th>text</th>\n",
       "      <th>duid</th>\n",
       "      <th>topic</th>\n",
       "      <th>num_words</th>\n",
       "      <th>keywords</th>\n",
       "      <th>num_keywords</th>\n",
       "    </tr>\n",
       "  </thead>\n",
       "  <tbody>\n",
       "    <tr>\n",
       "      <th>0</th>\n",
       "      <td>Singer Michael Buble weds TV star Luisana Lopi...</td>\n",
       "      <td>20893614</td>\n",
       "      <td>art_and_culture</td>\n",
       "      <td>283</td>\n",
       "      <td>[married Argentine, his Grammy, ceremony, kiss...</td>\n",
       "      <td>42</td>\n",
       "    </tr>\n",
       "    <tr>\n",
       "      <th>1</th>\n",
       "      <td>Craig \"\"will do Larsson justice\"\" Daniel Craig...</td>\n",
       "      <td>20900470</td>\n",
       "      <td>art_and_culture</td>\n",
       "      <td>264</td>\n",
       "      <td>[role, American, board, Staermose, Daniel, ver...</td>\n",
       "      <td>50</td>\n",
       "    </tr>\n",
       "    <tr>\n",
       "      <th>2</th>\n",
       "      <td>Justin Bieber and Ashton Kutcher: the worst bu...</td>\n",
       "      <td>20902975</td>\n",
       "      <td>art_and_culture</td>\n",
       "      <td>541</td>\n",
       "      <td>[production, coming, affinity, primarily, doub...</td>\n",
       "      <td>37</td>\n",
       "    </tr>\n",
       "    <tr>\n",
       "      <th>3</th>\n",
       "      <td>&amp;#039;Bones&amp;#039; Star Emily Deschanel pregnan...</td>\n",
       "      <td>20904497</td>\n",
       "      <td>art_and_culture</td>\n",
       "      <td>174</td>\n",
       "      <td>[confirmed, year, pregnant, September, TV, emb...</td>\n",
       "      <td>44</td>\n",
       "    </tr>\n",
       "    <tr>\n",
       "      <th>4</th>\n",
       "      <td>&amp;#039;Dark Shadows&amp;#039; update: Chloe Moretz ...</td>\n",
       "      <td>20906308</td>\n",
       "      <td>art_and_culture</td>\n",
       "      <td>261</td>\n",
       "      <td>[would play Carolyn, join cast, 039Dark Shadow...</td>\n",
       "      <td>21</td>\n",
       "    </tr>\n",
       "  </tbody>\n",
       "</table>\n",
       "</div>"
      ],
      "text/plain": [
       "                                                text      duid  \\\n",
       "0  Singer Michael Buble weds TV star Luisana Lopi...  20893614   \n",
       "1  Craig \"\"will do Larsson justice\"\" Daniel Craig...  20900470   \n",
       "2  Justin Bieber and Ashton Kutcher: the worst bu...  20902975   \n",
       "3  &#039;Bones&#039; Star Emily Deschanel pregnan...  20904497   \n",
       "4  &#039;Dark Shadows&#039; update: Chloe Moretz ...  20906308   \n",
       "\n",
       "             topic  num_words  \\\n",
       "0  art_and_culture        283   \n",
       "1  art_and_culture        264   \n",
       "2  art_and_culture        541   \n",
       "3  art_and_culture        174   \n",
       "4  art_and_culture        261   \n",
       "\n",
       "                                            keywords  num_keywords  \n",
       "0  [married Argentine, his Grammy, ceremony, kiss...            42  \n",
       "1  [role, American, board, Staermose, Daniel, ver...            50  \n",
       "2  [production, coming, affinity, primarily, doub...            37  \n",
       "3  [confirmed, year, pregnant, September, TV, emb...            44  \n",
       "4  [would play Carolyn, join cast, 039Dark Shadow...            21  "
      ]
     },
     "execution_count": 114,
     "metadata": {},
     "output_type": "execute_result"
    }
   ],
   "source": [
    "print(\"Shape of data=>\", en_kpcrowd.shape)\n",
    "en_kpcrowd.to_csv('en/en_kpcrowd.csv')\n",
    "en_kpcrowd.head(5)"
   ]
  },
  {
   "cell_type": "markdown",
   "metadata": {},
   "source": [
    "### Since keywords are not sorted by relevance we keep all of them.\n",
    "\n",
    "## KPTimes"
   ]
  },
  {
   "cell_type": "code",
   "execution_count": 20,
   "metadata": {},
   "outputs": [
    {
     "name": "stdout",
     "output_type": "stream",
     "text": [
      "Shape of data=> (19503, 6)\n"
     ]
    },
    {
     "data": {
      "text/html": [
       "<div>\n",
       "<style scoped>\n",
       "    .dataframe tbody tr th:only-of-type {\n",
       "        vertical-align: middle;\n",
       "    }\n",
       "\n",
       "    .dataframe tbody tr th {\n",
       "        vertical-align: top;\n",
       "    }\n",
       "\n",
       "    .dataframe thead th {\n",
       "        text-align: right;\n",
       "    }\n",
       "</style>\n",
       "<table border=\"1\" class=\"dataframe\">\n",
       "  <thead>\n",
       "    <tr style=\"text-align: right;\">\n",
       "      <th></th>\n",
       "      <th>duid</th>\n",
       "      <th>categories</th>\n",
       "      <th>headline</th>\n",
       "      <th>text</th>\n",
       "      <th>keywords</th>\n",
       "      <th>num_words</th>\n",
       "    </tr>\n",
       "  </thead>\n",
       "  <tbody>\n",
       "    <tr>\n",
       "      <th>0</th>\n",
       "      <td>jp0000001</td>\n",
       "      <td>['asia-pacific', 'offbeat-asia-pacific']</td>\n",
       "      <td>World records no joke to frustrated Pakistanis</td>\n",
       "      <td>ISLAMABAD - One young contender created the wo...</td>\n",
       "      <td>['india', 'pakistan', 'guinness']</td>\n",
       "      <td>490</td>\n",
       "    </tr>\n",
       "    <tr>\n",
       "      <th>1</th>\n",
       "      <td>jp0000004</td>\n",
       "      <td>['national', 'media-national']</td>\n",
       "      <td>Photo report: FOODEX Japan 2013</td>\n",
       "      <td>FoodEx is the largest trade exhibition for foo...</td>\n",
       "      <td>['japanese food', 'japan pulse', 'foodex']</td>\n",
       "      <td>178</td>\n",
       "    </tr>\n",
       "    <tr>\n",
       "      <th>2</th>\n",
       "      <td>jp0000005</td>\n",
       "      <td>['business']</td>\n",
       "      <td>'Abenomists' beware: Rising prices just one pi...</td>\n",
       "      <td>The Bank of Japan on Wednesday installed a new...</td>\n",
       "      <td>['boj', 'abenomics', 'economics', 'weak yen']</td>\n",
       "      <td>955</td>\n",
       "    </tr>\n",
       "    <tr>\n",
       "      <th>3</th>\n",
       "      <td>jp0000007</td>\n",
       "      <td>['national', 'media-national']</td>\n",
       "      <td>Google Street Views goes inside a Fukushima sc...</td>\n",
       "      <td>As everyone knows, Google Street Views lets yo...</td>\n",
       "      <td>['fukushima', 'tsunami', 'earthquake', '3.11',...</td>\n",
       "      <td>178</td>\n",
       "    </tr>\n",
       "    <tr>\n",
       "      <th>4</th>\n",
       "      <td>jp0000008</td>\n",
       "      <td>['reference']</td>\n",
       "      <td>The 5 p.m. bell</td>\n",
       "      <td>Dear Alice, I live in a medium-size city in Sa...</td>\n",
       "      <td>['5 p.m. chime', 'disaster warning']</td>\n",
       "      <td>995</td>\n",
       "    </tr>\n",
       "  </tbody>\n",
       "</table>\n",
       "</div>"
      ],
      "text/plain": [
       "        duid                                categories  \\\n",
       "0  jp0000001  ['asia-pacific', 'offbeat-asia-pacific']   \n",
       "1  jp0000004            ['national', 'media-national']   \n",
       "2  jp0000005                              ['business']   \n",
       "3  jp0000007            ['national', 'media-national']   \n",
       "4  jp0000008                             ['reference']   \n",
       "\n",
       "                                            headline  \\\n",
       "0    World records no joke to frustrated Pakistanis    \n",
       "1                   Photo report: FOODEX Japan 2013    \n",
       "2  'Abenomists' beware: Rising prices just one pi...   \n",
       "3  Google Street Views goes inside a Fukushima sc...   \n",
       "4                                   The 5 p.m. bell    \n",
       "\n",
       "                                                text  \\\n",
       "0  ISLAMABAD - One young contender created the wo...   \n",
       "1  FoodEx is the largest trade exhibition for foo...   \n",
       "2  The Bank of Japan on Wednesday installed a new...   \n",
       "3  As everyone knows, Google Street Views lets yo...   \n",
       "4  Dear Alice, I live in a medium-size city in Sa...   \n",
       "\n",
       "                                            keywords  num_words  \n",
       "0                  ['india', 'pakistan', 'guinness']        490  \n",
       "1         ['japanese food', 'japan pulse', 'foodex']        178  \n",
       "2      ['boj', 'abenomics', 'economics', 'weak yen']        955  \n",
       "3  ['fukushima', 'tsunami', 'earthquake', '3.11',...        178  \n",
       "4               ['5 p.m. chime', 'disaster warning']        995  "
      ]
     },
     "execution_count": 20,
     "metadata": {},
     "output_type": "execute_result"
    }
   ],
   "source": [
    "en_kptimes = pd.read_csv('en/KPTimes.csv', index_col=0)\n",
    "print(\"Shape of data=>\", en_kptimes.shape)\n",
    "en_kptimes.head(5)"
   ]
  },
  {
   "cell_type": "code",
   "execution_count": 21,
   "metadata": {},
   "outputs": [
    {
     "data": {
      "text/plain": [
       "19502"
      ]
     },
     "execution_count": 21,
     "metadata": {},
     "output_type": "execute_result"
    }
   ],
   "source": [
    "len(en_kptimes['text'].unique()) # 1 non-unique article, let's remove it"
   ]
  },
  {
   "cell_type": "code",
   "execution_count": 22,
   "metadata": {},
   "outputs": [],
   "source": [
    "en_kptimes = en_kptimes.drop_duplicates(subset='text', keep=\"last\").reset_index(drop=True)"
   ]
  },
  {
   "cell_type": "code",
   "execution_count": 23,
   "metadata": {},
   "outputs": [
    {
     "data": {
      "text/plain": [
       "<AxesSubplot:title={'center':'Num. of words per doc. distribution'}, ylabel='Frequency'>"
      ]
     },
     "execution_count": 23,
     "metadata": {},
     "output_type": "execute_result"
    },
    {
     "data": {
      "image/png": "[encoded data removed]",
      "text/plain": [
       "<Figure size 432x288 with 1 Axes>"
      ]
     },
     "metadata": {
      "needs_background": "light"
     },
     "output_type": "display_data"
    }
   ],
   "source": [
    "en_kptimes.num_words.plot.hist(bins=12, alpha=0.8, legend=False, title=\"Num. of words per doc. distribution\", xlabel='Words per doc.')"
   ]
  },
  {
   "cell_type": "code",
   "execution_count": 24,
   "metadata": {},
   "outputs": [],
   "source": [
    "#en_kptimes[en_kptimes['num_words'] > round(en_kptimes[\"num_words\"].quantile(0.99))].count() # with 99% quantile [1781 words] -> 195 rows removed\n",
    "en_kptimes = en_kptimes[en_kptimes['num_words'] <= round(en_kptimes[\"num_words\"].quantile(0.99))].reset_index(drop=True)"
   ]
  },
  {
   "cell_type": "code",
   "execution_count": 25,
   "metadata": {},
   "outputs": [
    {
     "data": {
      "text/plain": [
       "<AxesSubplot:title={'center':'Num. of words per doc. distribution'}, ylabel='Frequency'>"
      ]
     },
     "execution_count": 25,
     "metadata": {},
     "output_type": "execute_result"
    },
    {
     "data": {
      "image/png": "[encoded data removed]",
      "text/plain": [
       "<Figure size 432x288 with 1 Axes>"
      ]
     },
     "metadata": {
      "needs_background": "light"
     },
     "output_type": "display_data"
    }
   ],
   "source": [
    "en_kptimes.num_words.plot.hist(bins=12, alpha=0.8, legend=False, title=\"Num. of words per doc. distribution\", xlabel='Words per doc.')"
   ]
  },
  {
   "cell_type": "code",
   "execution_count": 26,
   "metadata": {},
   "outputs": [
    {
     "data": {
      "text/plain": [
       "<AxesSubplot:title={'center':'Num. of keywords per doc. distribution'}, ylabel='Frequency'>"
      ]
     },
     "execution_count": 26,
     "metadata": {},
     "output_type": "execute_result"
    },
    {
     "data": {
      "image/png": "[encoded data removed]",
      "text/plain": [
       "<Figure size 432x288 with 1 Axes>"
      ]
     },
     "metadata": {
      "needs_background": "light"
     },
     "output_type": "display_data"
    }
   ],
   "source": [
    "en_kptimes['categories'] = en_kptimes.apply(lambda row: ast.literal_eval(row['categories']), axis=1)\n",
    "en_kptimes['keywords'] = en_kptimes.apply(lambda row: ast.literal_eval(row['keywords']), axis=1)\n",
    "en_kptimes['num_keywords'] = en_kptimes.apply(lambda row: len(row['keywords']), axis=1)\n",
    "en_kptimes.num_keywords.plot.hist(bins=9, alpha=0.8, legend=False, title=\"Num. of keywords per doc. distribution\", xlabel='Keywords per doc.')"
   ]
  },
  {
   "cell_type": "code",
   "execution_count": 27,
   "metadata": {},
   "outputs": [
    {
     "data": {
      "text/plain": [
       "Text(0.5, 0, 'Length of keywords')"
      ]
     },
     "execution_count": 27,
     "metadata": {},
     "output_type": "execute_result"
    },
    {
     "data": {
      "image/png": "[encoded data removed]",
      "text/plain": [
       "<Figure size 432x288 with 1 Axes>"
      ]
     },
     "metadata": {
      "needs_background": "light"
     },
     "output_type": "display_data"
    }
   ],
   "source": [
    "acc = []\n",
    "for i, row in en_kptimes.iterrows():\n",
    "    acc = acc + [len(kw.split()) for kw in row['keywords']]\n",
    "c = Counter(acc)\n",
    "plt.bar(c.keys(), c.values())\n",
    "plt.title(\"Length of keywords distribution\")\n",
    "plt.xlabel(\"Length of keywords\")"
   ]
  },
  {
   "cell_type": "code",
   "execution_count": 10,
   "metadata": {},
   "outputs": [
    {
     "data": {
      "text/plain": [
       "<AxesSubplot:title={'center':'Num. of category tags per doc. distribution'}, ylabel='Frequency'>"
      ]
     },
     "execution_count": 10,
     "metadata": {},
     "output_type": "execute_result"
    },
    {
     "data": {
      "image/png": "[encoded data removed]",
      "text/plain": [
       "<Figure size 432x288 with 1 Axes>"
      ]
     },
     "metadata": {
      "needs_background": "light"
     },
     "output_type": "display_data"
    }
   ],
   "source": [
    "en_kptimes['num_categories'] = en_kptimes.apply(lambda row: len(ast.literal_eval(row['categories'])), axis=1)\n",
    "en_kptimes.num_categories.plot.hist(alpha=0.8, legend=False, title=\"Num. of category tags per doc. distribution\", xlabel='Categories per doc.')"
   ]
  },
  {
   "cell_type": "code",
   "execution_count": 13,
   "metadata": {},
   "outputs": [
    {
     "name": "stdout",
     "output_type": "stream",
     "text": [
      "Found 94 different tags like: ['what-in-the-world', 'playmagazine', 'rugby', 'politics', 'earth']\n"
     ]
    }
   ],
   "source": [
    "tags = []\n",
    "for i, row in en_kptimes.iterrows():\n",
    "    for tag in ast.literal_eval(row['categories']):\n",
    "        tags.append(tag)\n",
    "tags = set(tags)\n",
    "print(f'Found {len(tags)} different tags like: {list(tags)[:5]}')"
   ]
  },
  {
   "cell_type": "code",
   "execution_count": 14,
   "metadata": {},
   "outputs": [
    {
     "name": "stdout",
     "output_type": "stream",
     "text": [
      "Shape of data=> (19307, 8)\n"
     ]
    },
    {
     "data": {
      "text/html": [
       "<div>\n",
       "<style scoped>\n",
       "    .dataframe tbody tr th:only-of-type {\n",
       "        vertical-align: middle;\n",
       "    }\n",
       "\n",
       "    .dataframe tbody tr th {\n",
       "        vertical-align: top;\n",
       "    }\n",
       "\n",
       "    .dataframe thead th {\n",
       "        text-align: right;\n",
       "    }\n",
       "</style>\n",
       "<table border=\"1\" class=\"dataframe\">\n",
       "  <thead>\n",
       "    <tr style=\"text-align: right;\">\n",
       "      <th></th>\n",
       "      <th>duid</th>\n",
       "      <th>categories</th>\n",
       "      <th>headline</th>\n",
       "      <th>text</th>\n",
       "      <th>keywords</th>\n",
       "      <th>num_words</th>\n",
       "      <th>num_keywords</th>\n",
       "      <th>num_categories</th>\n",
       "    </tr>\n",
       "  </thead>\n",
       "  <tbody>\n",
       "    <tr>\n",
       "      <th>0</th>\n",
       "      <td>jp0000001</td>\n",
       "      <td>['asia-pacific', 'offbeat-asia-pacific']</td>\n",
       "      <td>World records no joke to frustrated Pakistanis</td>\n",
       "      <td>ISLAMABAD - One young contender created the wo...</td>\n",
       "      <td>['india', 'pakistan', 'guinness']</td>\n",
       "      <td>490</td>\n",
       "      <td>3</td>\n",
       "      <td>2</td>\n",
       "    </tr>\n",
       "    <tr>\n",
       "      <th>1</th>\n",
       "      <td>jp0000004</td>\n",
       "      <td>['national', 'media-national']</td>\n",
       "      <td>Photo report: FOODEX Japan 2013</td>\n",
       "      <td>FoodEx is the largest trade exhibition for foo...</td>\n",
       "      <td>['japanese food', 'japan pulse', 'foodex']</td>\n",
       "      <td>178</td>\n",
       "      <td>3</td>\n",
       "      <td>2</td>\n",
       "    </tr>\n",
       "    <tr>\n",
       "      <th>2</th>\n",
       "      <td>jp0000005</td>\n",
       "      <td>['business']</td>\n",
       "      <td>'Abenomists' beware: Rising prices just one pi...</td>\n",
       "      <td>The Bank of Japan on Wednesday installed a new...</td>\n",
       "      <td>['boj', 'abenomics', 'economics', 'weak yen']</td>\n",
       "      <td>955</td>\n",
       "      <td>4</td>\n",
       "      <td>1</td>\n",
       "    </tr>\n",
       "    <tr>\n",
       "      <th>3</th>\n",
       "      <td>jp0000007</td>\n",
       "      <td>['national', 'media-national']</td>\n",
       "      <td>Google Street Views goes inside a Fukushima sc...</td>\n",
       "      <td>As everyone knows, Google Street Views lets yo...</td>\n",
       "      <td>['fukushima', 'tsunami', 'earthquake', '3.11',...</td>\n",
       "      <td>178</td>\n",
       "      <td>5</td>\n",
       "      <td>2</td>\n",
       "    </tr>\n",
       "    <tr>\n",
       "      <th>4</th>\n",
       "      <td>jp0000008</td>\n",
       "      <td>['reference']</td>\n",
       "      <td>The 5 p.m. bell</td>\n",
       "      <td>Dear Alice, I live in a medium-size city in Sa...</td>\n",
       "      <td>['5 p.m. chime', 'disaster warning']</td>\n",
       "      <td>995</td>\n",
       "      <td>2</td>\n",
       "      <td>1</td>\n",
       "    </tr>\n",
       "  </tbody>\n",
       "</table>\n",
       "</div>"
      ],
      "text/plain": [
       "        duid                                categories  \\\n",
       "0  jp0000001  ['asia-pacific', 'offbeat-asia-pacific']   \n",
       "1  jp0000004            ['national', 'media-national']   \n",
       "2  jp0000005                              ['business']   \n",
       "3  jp0000007            ['national', 'media-national']   \n",
       "4  jp0000008                             ['reference']   \n",
       "\n",
       "                                            headline  \\\n",
       "0    World records no joke to frustrated Pakistanis    \n",
       "1                   Photo report: FOODEX Japan 2013    \n",
       "2  'Abenomists' beware: Rising prices just one pi...   \n",
       "3  Google Street Views goes inside a Fukushima sc...   \n",
       "4                                   The 5 p.m. bell    \n",
       "\n",
       "                                                text  \\\n",
       "0  ISLAMABAD - One young contender created the wo...   \n",
       "1  FoodEx is the largest trade exhibition for foo...   \n",
       "2  The Bank of Japan on Wednesday installed a new...   \n",
       "3  As everyone knows, Google Street Views lets yo...   \n",
       "4  Dear Alice, I live in a medium-size city in Sa...   \n",
       "\n",
       "                                            keywords  num_words  num_keywords  \\\n",
       "0                  ['india', 'pakistan', 'guinness']        490             3   \n",
       "1         ['japanese food', 'japan pulse', 'foodex']        178             3   \n",
       "2      ['boj', 'abenomics', 'economics', 'weak yen']        955             4   \n",
       "3  ['fukushima', 'tsunami', 'earthquake', '3.11',...        178             5   \n",
       "4               ['5 p.m. chime', 'disaster warning']        995             2   \n",
       "\n",
       "   num_categories  \n",
       "0               2  \n",
       "1               2  \n",
       "2               1  \n",
       "3               2  \n",
       "4               1  "
      ]
     },
     "execution_count": 14,
     "metadata": {},
     "output_type": "execute_result"
    }
   ],
   "source": [
    "print(\"Shape of data=>\", en_kptimes.shape)\n",
    "en_kptimes.to_csv('en/en_kptimes.csv')\n",
    "en_kptimes.head(5)"
   ]
  },
  {
   "cell_type": "markdown",
   "metadata": {},
   "source": [
    "## SemEval2017"
   ]
  },
  {
   "cell_type": "code",
   "execution_count": 28,
   "metadata": {},
   "outputs": [
    {
     "name": "stdout",
     "output_type": "stream",
     "text": [
      "Shape of data=> (453, 4)\n"
     ]
    },
    {
     "data": {
      "text/html": [
       "<div>\n",
       "<style scoped>\n",
       "    .dataframe tbody tr th:only-of-type {\n",
       "        vertical-align: middle;\n",
       "    }\n",
       "\n",
       "    .dataframe tbody tr th {\n",
       "        vertical-align: top;\n",
       "    }\n",
       "\n",
       "    .dataframe thead th {\n",
       "        text-align: right;\n",
       "    }\n",
       "</style>\n",
       "<table border=\"1\" class=\"dataframe\">\n",
       "  <thead>\n",
       "    <tr style=\"text-align: right;\">\n",
       "      <th></th>\n",
       "      <th>text</th>\n",
       "      <th>duid</th>\n",
       "      <th>num_words</th>\n",
       "      <th>keywords</th>\n",
       "    </tr>\n",
       "  </thead>\n",
       "  <tbody>\n",
       "    <tr>\n",
       "      <th>0</th>\n",
       "      <td>Complex Langevin (CL) dynamics  [1,2] provides...</td>\n",
       "      <td>S0003491613001516</td>\n",
       "      <td>183</td>\n",
       "      <td>['CL', 'complexified configuration space', 'Co...</td>\n",
       "    </tr>\n",
       "    <tr>\n",
       "      <th>1</th>\n",
       "      <td>Nuclear theory devoted major efforts since 4 d...</td>\n",
       "      <td>S0003491615000433</td>\n",
       "      <td>198</td>\n",
       "      <td>['C60', 'combining quantum features', 'field o...</td>\n",
       "    </tr>\n",
       "    <tr>\n",
       "      <th>2</th>\n",
       "      <td>The next important step might be the derivatio...</td>\n",
       "      <td>S0003491615001505</td>\n",
       "      <td>182</td>\n",
       "      <td>['continuum space-time', 'Dirac equation', 'fu...</td>\n",
       "    </tr>\n",
       "    <tr>\n",
       "      <th>3</th>\n",
       "      <td>This work shows how our approach based on the ...</td>\n",
       "      <td>S0003491615001839</td>\n",
       "      <td>173</td>\n",
       "      <td>['class virial expansions', 'field partition f...</td>\n",
       "    </tr>\n",
       "    <tr>\n",
       "      <th>4</th>\n",
       "      <td>A fluctuating vacuum is a general feature of q...</td>\n",
       "      <td>S0003491615001955</td>\n",
       "      <td>170</td>\n",
       "      <td>['a collection of fermionic fields describing ...</td>\n",
       "    </tr>\n",
       "  </tbody>\n",
       "</table>\n",
       "</div>"
      ],
      "text/plain": [
       "                                                text               duid  \\\n",
       "0  Complex Langevin (CL) dynamics  [1,2] provides...  S0003491613001516   \n",
       "1  Nuclear theory devoted major efforts since 4 d...  S0003491615000433   \n",
       "2  The next important step might be the derivatio...  S0003491615001505   \n",
       "3  This work shows how our approach based on the ...  S0003491615001839   \n",
       "4  A fluctuating vacuum is a general feature of q...  S0003491615001955   \n",
       "\n",
       "   num_words                                           keywords  \n",
       "0        183  ['CL', 'complexified configuration space', 'Co...  \n",
       "1        198  ['C60', 'combining quantum features', 'field o...  \n",
       "2        182  ['continuum space-time', 'Dirac equation', 'fu...  \n",
       "3        173  ['class virial expansions', 'field partition f...  \n",
       "4        170  ['a collection of fermionic fields describing ...  "
      ]
     },
     "execution_count": 28,
     "metadata": {},
     "output_type": "execute_result"
    }
   ],
   "source": [
    "en_eval17 = pd.read_csv('en/SemEval2017.csv', index_col=0)\n",
    "print(\"Shape of data=>\", en_eval17.shape)\n",
    "en_eval17.head(5)"
   ]
  },
  {
   "cell_type": "code",
   "execution_count": 29,
   "metadata": {},
   "outputs": [
    {
     "data": {
      "text/plain": [
       "453"
      ]
     },
     "execution_count": 29,
     "metadata": {},
     "output_type": "execute_result"
    }
   ],
   "source": [
    "len(en_eval17['text'].unique())"
   ]
  },
  {
   "cell_type": "code",
   "execution_count": 30,
   "metadata": {},
   "outputs": [
    {
     "data": {
      "text/plain": [
       "<AxesSubplot:title={'center':'Num. of words per doc. distribution'}, ylabel='Frequency'>"
      ]
     },
     "execution_count": 30,
     "metadata": {},
     "output_type": "execute_result"
    },
    {
     "data": {
      "image/png": "[encoded data removed]",
      "text/plain": [
       "<Figure size 432x288 with 1 Axes>"
      ]
     },
     "metadata": {
      "needs_background": "light"
     },
     "output_type": "display_data"
    }
   ],
   "source": [
    "en_eval17.num_words.plot.hist(bins=12, alpha=0.8, legend=False, title=\"Num. of words per doc. distribution\", xlabel='Words per doc.')"
   ]
  },
  {
   "cell_type": "code",
   "execution_count": 31,
   "metadata": {},
   "outputs": [],
   "source": [
    "#en_eval17[en_eval17['num_words'] > round(en_eval17[\"num_words\"].quantile(0.99))].count() # with 99% quantile [270 words] -> 5 rows removed\n",
    "en_eval17 = en_eval17[en_eval17['num_words'] <= round(en_eval17[\"num_words\"].quantile(0.99))].reset_index(drop=True)"
   ]
  },
  {
   "cell_type": "code",
   "execution_count": 32,
   "metadata": {},
   "outputs": [
    {
     "data": {
      "text/plain": [
       "<AxesSubplot:title={'center':'Num. of words per doc. distribution'}, ylabel='Frequency'>"
      ]
     },
     "execution_count": 32,
     "metadata": {},
     "output_type": "execute_result"
    },
    {
     "data": {
      "image/png": "[encoded data removed]",
      "text/plain": [
       "<Figure size 432x288 with 1 Axes>"
      ]
     },
     "metadata": {
      "needs_background": "light"
     },
     "output_type": "display_data"
    }
   ],
   "source": [
    "en_eval17.num_words.plot.hist(bins=12, alpha=0.8, legend=False, title=\"Num. of words per doc. distribution\", xlabel='Words per doc.')"
   ]
  },
  {
   "cell_type": "code",
   "execution_count": 33,
   "metadata": {},
   "outputs": [
    {
     "data": {
      "text/plain": [
       "<AxesSubplot:title={'center':'Num. of keywords per doc. distribution'}, ylabel='Frequency'>"
      ]
     },
     "execution_count": 33,
     "metadata": {},
     "output_type": "execute_result"
    },
    {
     "data": {
      "image/png": "[encoded data removed]",
      "text/plain": [
       "<Figure size 432x288 with 1 Axes>"
      ]
     },
     "metadata": {
      "needs_background": "light"
     },
     "output_type": "display_data"
    }
   ],
   "source": [
    "en_eval17['keywords'] = en_eval17.apply(lambda row: ast.literal_eval(row['keywords']), axis=1)\n",
    "en_eval17['num_keywords'] = en_eval17.apply(lambda row: len(row['keywords']), axis=1)\n",
    "en_eval17.num_keywords.plot.hist(bins=9, alpha=0.8, legend=False, title=\"Num. of keywords per doc. distribution\", xlabel='Keywords per doc.')"
   ]
  },
  {
   "cell_type": "code",
   "execution_count": 34,
   "metadata": {},
   "outputs": [
    {
     "data": {
      "text/plain": [
       "Text(0.5, 0, 'Length of keywords')"
      ]
     },
     "execution_count": 34,
     "metadata": {},
     "output_type": "execute_result"
    },
    {
     "data": {
      "image/png": "[encoded data removed]",
      "text/plain": [
       "<Figure size 432x288 with 1 Axes>"
      ]
     },
     "metadata": {
      "needs_background": "light"
     },
     "output_type": "display_data"
    }
   ],
   "source": [
    "acc = []\n",
    "for i, row in en_eval17.iterrows():\n",
    "    acc = acc + [len(kw.split()) for kw in row['keywords']]\n",
    "c = Counter(acc)\n",
    "plt.bar(c.keys(), c.values())\n",
    "plt.title(\"Length of keywords distribution\")\n",
    "plt.xlabel(\"Length of keywords\")"
   ]
  },
  {
   "cell_type": "code",
   "execution_count": 42,
   "metadata": {},
   "outputs": [
    {
     "name": "stdout",
     "output_type": "stream",
     "text": [
      "Shape of data=> (448, 5)\n"
     ]
    },
    {
     "data": {
      "text/html": [
       "<div>\n",
       "<style scoped>\n",
       "    .dataframe tbody tr th:only-of-type {\n",
       "        vertical-align: middle;\n",
       "    }\n",
       "\n",
       "    .dataframe tbody tr th {\n",
       "        vertical-align: top;\n",
       "    }\n",
       "\n",
       "    .dataframe thead th {\n",
       "        text-align: right;\n",
       "    }\n",
       "</style>\n",
       "<table border=\"1\" class=\"dataframe\">\n",
       "  <thead>\n",
       "    <tr style=\"text-align: right;\">\n",
       "      <th></th>\n",
       "      <th>text</th>\n",
       "      <th>duid</th>\n",
       "      <th>num_words</th>\n",
       "      <th>keywords</th>\n",
       "      <th>num_keywords</th>\n",
       "    </tr>\n",
       "  </thead>\n",
       "  <tbody>\n",
       "    <tr>\n",
       "      <th>0</th>\n",
       "      <td>Complex Langevin (CL) dynamics  [1,2] provides...</td>\n",
       "      <td>S0003491613001516</td>\n",
       "      <td>183</td>\n",
       "      <td>[CL, complexified configuration space, Complex...</td>\n",
       "      <td>14</td>\n",
       "    </tr>\n",
       "    <tr>\n",
       "      <th>1</th>\n",
       "      <td>Nuclear theory devoted major efforts since 4 d...</td>\n",
       "      <td>S0003491615000433</td>\n",
       "      <td>198</td>\n",
       "      <td>[C60, combining quantum features, field of clu...</td>\n",
       "      <td>20</td>\n",
       "    </tr>\n",
       "    <tr>\n",
       "      <th>2</th>\n",
       "      <td>The next important step might be the derivatio...</td>\n",
       "      <td>S0003491615001505</td>\n",
       "      <td>182</td>\n",
       "      <td>[continuum space-time, Dirac equation, future ...</td>\n",
       "      <td>13</td>\n",
       "    </tr>\n",
       "    <tr>\n",
       "      <th>3</th>\n",
       "      <td>This work shows how our approach based on the ...</td>\n",
       "      <td>S0003491615001839</td>\n",
       "      <td>173</td>\n",
       "      <td>[class virial expansions, field partition func...</td>\n",
       "      <td>16</td>\n",
       "    </tr>\n",
       "    <tr>\n",
       "      <th>4</th>\n",
       "      <td>A fluctuating vacuum is a general feature of q...</td>\n",
       "      <td>S0003491615001955</td>\n",
       "      <td>170</td>\n",
       "      <td>[a collection of fermionic fields describing c...</td>\n",
       "      <td>14</td>\n",
       "    </tr>\n",
       "  </tbody>\n",
       "</table>\n",
       "</div>"
      ],
      "text/plain": [
       "                                                text               duid  \\\n",
       "0  Complex Langevin (CL) dynamics  [1,2] provides...  S0003491613001516   \n",
       "1  Nuclear theory devoted major efforts since 4 d...  S0003491615000433   \n",
       "2  The next important step might be the derivatio...  S0003491615001505   \n",
       "3  This work shows how our approach based on the ...  S0003491615001839   \n",
       "4  A fluctuating vacuum is a general feature of q...  S0003491615001955   \n",
       "\n",
       "   num_words                                           keywords  num_keywords  \n",
       "0        183  [CL, complexified configuration space, Complex...            14  \n",
       "1        198  [C60, combining quantum features, field of clu...            20  \n",
       "2        182  [continuum space-time, Dirac equation, future ...            13  \n",
       "3        173  [class virial expansions, field partition func...            16  \n",
       "4        170  [a collection of fermionic fields describing c...            14  "
      ]
     },
     "execution_count": 42,
     "metadata": {},
     "output_type": "execute_result"
    }
   ],
   "source": [
    "print(\"Shape of data=>\", en_eval17.shape)\n",
    "en_eval17.to_csv('en/en_semeval2017.csv')\n",
    "en_eval17.head(5)"
   ]
  }
 ],
 "metadata": {
  "interpreter": {
   "hash": "9bacb6458dda4b42c6a07503ac3588add1d91b29c1d69c745adbc07a0974aff1"
  },
  "kernelspec": {
   "display_name": "Python 3.8.5 64-bit ('base': conda)",
   "name": "python3"
  },
  "language_info": {
   "codemirror_mode": {
    "name": "ipython",
    "version": 3
   },
   "file_extension": ".py",
   "mimetype": "text/x-python",
   "name": "python",
   "nbconvert_exporter": "python",
   "pygments_lexer": "ipython3",
   "version": "3.8.0"
  },
  "orig_nbformat": 4
 },
 "nbformat": 4,
 "nbformat_minor": 2
}
